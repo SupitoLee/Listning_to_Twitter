{
 "cells": [
  {
   "cell_type": "markdown",
   "metadata": {},
   "source": [
    "# Setup and install necessary packages [do not change]"
   ]
  },
  {
   "cell_type": "code",
   "execution_count": 1,
   "metadata": {},
   "outputs": [],
   "source": [
    "# first, we need to install some packages that are needed to run the API\n",
    "import pip\n",
    "\n",
    "def import_or_install(package):\n",
    "    try:\n",
    "        __import__(package)\n",
    "    except ImportError:\n",
    "        pip.main(['install', package])  \n",
    "\n",
    "import_or_install('tweepy')\n",
    "\n",
    "import tweepy\n",
    "from tweepy.auth import OAuthHandler\n",
    "from tweepy import Stream\n",
    "from tweepy.streaming import StreamListener\n",
    "\n"
   ]
  },
  {
   "cell_type": "code",
   "execution_count": 2,
   "metadata": {},
   "outputs": [],
   "source": [
    "# This part is responsible of getting the data, and printing the data.\n",
    "# It's a basic listener , printing tweets to the output console (stdout).\n",
    "class StdOutListener(StreamListener):\n",
    "\n",
    "    def on_data(self, data):\n",
    "        #print data\n",
    "        with open(filename,'a') as tf:\n",
    "            tf.write(data)\n",
    "        return True\n",
    "\n",
    "    def on_error(self, status):\n",
    "        print status\n",
    "\n",
    "l = StdOutListener()"
   ]
  },
  {
   "cell_type": "markdown",
   "metadata": {},
   "source": [
    "# Insert credentials, hashtags, and filename here"
   ]
  },
  {
   "cell_type": "code",
   "execution_count": 3,
   "metadata": {},
   "outputs": [],
   "source": [
    "# Please add your Twitter API user credentials here. \n",
    "# One of your team members needs to have such an access account;\n",
    "# register a new \"App\" under your Twitter account, and put the necessary\n",
    "# identification details below.\n",
    "\n",
    "access_token = \"2332145246-UbfCEpn4qlEJXoh04hKcquI1B1ibFDiIMyrbHD9\"\n",
    "access_token_secret = \"35kVzqZE6Cg7vCGs7th5LN6gn3GHxlecd935BpyjMKZOp\"\n",
    "consumer_key = \"vVG4Tru4ZL8ZZocm3OjQNsxt0\"\n",
    "consumer_secret = \"5hclYhkUeHVNmRMG1qJpshDSs05ONWnG3I18IZ0kFQuF3XPP53\"\n",
    "\n",
    "# Define a list of trackable hash tags or character strings\n",
    "# that you would like to get data on.\n",
    "\n",
    "#tracking = ['#DWDD', '#NOS', '#Nederland', '#Obama'] # tracking multiple keywords\n",
    "tracking = ['#coronavirus'] # tracking only one keyword\n",
    "\n",
    "# Define file in which to write the Tweets (will be saved to the directory in which this code file is located)\n",
    "filename = 'Corona2020.txt'"
   ]
  },
  {
   "cell_type": "markdown",
   "metadata": {},
   "source": [
    "# Start data collection"
   ]
  },
  {
   "cell_type": "code",
   "execution_count": 4,
   "metadata": {},
   "outputs": [
    {
     "name": "stdout",
     "output_type": "stream",
     "text": [
      "Corona2020.txt\n"
     ]
    }
   ],
   "source": [
    "print(filename)"
   ]
  },
  {
   "cell_type": "code",
   "execution_count": null,
   "metadata": {},
   "outputs": [],
   "source": [
    "auth = OAuthHandler(consumer_key, consumer_secret)\n",
    "auth.set_access_token(access_token, access_token_secret)\n",
    "stream = Stream(auth, l)\n",
    "stream.filter(track=tracking)"
   ]
  },
  {
   "cell_type": "markdown",
   "metadata": {},
   "source": [
    "# click on the stop button to finish the collection"
   ]
  },
  {
   "cell_type": "code",
   "execution_count": null,
   "metadata": {},
   "outputs": [],
   "source": []
  },
  {
   "cell_type": "code",
   "execution_count": null,
   "metadata": {},
   "outputs": [],
   "source": []
  }
 ],
 "metadata": {
  "kernelspec": {
   "display_name": "Python 2",
   "language": "python",
   "name": "python2"
  },
  "language_info": {
   "codemirror_mode": {
    "name": "ipython",
    "version": 2
   },
   "file_extension": ".py",
   "mimetype": "text/x-python",
   "name": "python",
   "nbconvert_exporter": "python",
   "pygments_lexer": "ipython2",
   "version": "2.7.14"
  }
 },
 "nbformat": 4,
 "nbformat_minor": 2
}
